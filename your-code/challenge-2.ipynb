{
 "cells": [
  {
   "cell_type": "markdown",
   "metadata": {},
   "source": [
    "## Challenge 2: Sets\n",
    "\n",
    "There are a lot to learn about Python Sets and the information presented in the lesson is limited due to its length. To learn Python Sets in depth you are strongly encouraged to review the W3Schools tutorial on [Python Sets Examples and Methods](https://www.w3schools.com/python/python_sets.asp) before you work on this lab. Some difficult questions in this lab have their solutions in the W3Schools tutorial.\n",
    "\n",
    "#### First, import the Python `random` library."
   ]
  },
  {
   "cell_type": "code",
   "execution_count": 2,
   "metadata": {},
   "outputs": [],
   "source": [
    "import random"
   ]
  },
  {
   "cell_type": "markdown",
   "metadata": {},
   "source": [
    "#### In the cell below, create a list named `sample_list_1` with 80 random values. \n",
    "\n",
    "Requirements:\n",
    "\n",
    "* Each value is an integer falling between 0 and 100.\n",
    "* Each value in the list is unique.\n",
    "\n",
    "Print `sample_list_1` to review its values\n",
    "\n",
    "*Hint: use `random.sample` ([reference](https://docs.python.org/3/library/random.html#random.sample)).*"
   ]
  },
  {
   "cell_type": "code",
   "execution_count": 9,
   "metadata": {},
   "outputs": [
    {
     "name": "stdout",
     "output_type": "stream",
     "text": [
      "[86, 1, 23, 81, 51, 41, 49, 39, 58, 90, 34, 31, 2, 57, 13, 17, 66, 38, 20, 100, 72, 61, 44, 8, 27, 9, 80, 60, 10, 36, 64, 5, 91, 79, 84, 65, 93, 82, 11, 97, 6, 67, 55, 3, 26, 74, 45, 83, 99, 28, 43, 7, 25, 21, 29, 56, 16, 14, 48, 0, 19, 53, 85, 76, 95, 47, 15, 92, 75, 33, 18, 22, 59, 94, 24, 96, 42, 32, 37, 54]\n"
     ]
    },
    {
     "data": {
      "text/plain": [
       "'while len(sample_list_1) != 80:\\n    x = random.randint(0,101)\\n    if x not in sample_list_1:       \\n        sample_list_1.append(x)'"
      ]
     },
     "execution_count": 9,
     "metadata": {},
     "output_type": "execute_result"
    }
   ],
   "source": [
    "sample_list_1 = []\n",
    "\n",
    "sample_list_1 = random.sample(range(101), 80)\n",
    "print(sample_list_1)\n",
    "\n",
    "\n",
    "\n",
    "#ALTERNATIVE without random.sample - \n",
    "\"\"\"while len(sample_list_1) != 80:\n",
    "    x = random.randint(0,101)\n",
    "    if x not in sample_list_1:       \n",
    "        sample_list_1.append(x)\"\"\"\n",
    "    \n",
    "    \n",
    "\n",
    "\n",
    "\n"
   ]
  },
  {
   "cell_type": "markdown",
   "metadata": {},
   "source": [
    "#### Convert `sample_list_1` to a set called `set1`. Print the length of the set. Is its length still 80?"
   ]
  },
  {
   "cell_type": "code",
   "execution_count": 10,
   "metadata": {},
   "outputs": [
    {
     "name": "stdout",
     "output_type": "stream",
     "text": [
      "{0, 1, 2, 3, 5, 6, 7, 8, 9, 10, 11, 13, 14, 15, 16, 17, 18, 19, 20, 21, 22, 23, 24, 25, 26, 27, 28, 29, 31, 32, 33, 34, 36, 37, 38, 39, 41, 42, 43, 44, 45, 47, 48, 49, 51, 53, 54, 55, 56, 57, 58, 59, 60, 61, 64, 65, 66, 67, 72, 74, 75, 76, 79, 80, 81, 82, 83, 84, 85, 86, 90, 91, 92, 93, 94, 95, 96, 97, 99, 100}\n",
      "<class 'set'> Length of set is 80\n"
     ]
    }
   ],
   "source": [
    "\n",
    "set1 = set(sample_list_1)\n",
    "\n",
    "print(set1)\n",
    "print(type(set1), 'Length of set is', len(set1))\n"
   ]
  },
  {
   "cell_type": "markdown",
   "metadata": {},
   "source": [
    "#### Create another list named `sample_list_2` with 80 random values.\n",
    "\n",
    "Requirements:\n",
    "\n",
    "* Each value is an integer falling between 0 and 100.\n",
    "* The values in the list don't have to be unique.\n",
    "\n",
    "*Hint: Use a FOR loop and the `randrange()` function.*"
   ]
  },
  {
   "cell_type": "code",
   "execution_count": 41,
   "metadata": {},
   "outputs": [
    {
     "name": "stdout",
     "output_type": "stream",
     "text": [
      "[64, 12, 28, 76, 82, 5, 89, 82, 40, 81, 21, 42, 47, 66, 59, 62, 21, 2, 59, 87, 0, 27, 40, 6, 93, 13, 78, 29, 66, 50, 82, 49, 79, 0, 94, 22, 2, 40, 20, 44, 52, 0, 31, 64, 64, 40, 16, 16, 58, 87, 56, 13, 2, 0, 0, 61, 17, 19, 81, 76, 5, 84, 91, 1, 87, 70, 94, 39, 32, 56, 38, 41, 80, 73, 22, 54, 19, 23, 86, 22]\n"
     ]
    }
   ],
   "source": [
    "sample_list_2 = []\n",
    "\n",
    "for x in range (0,80):\n",
    "    x = random.randrange(0,101)\n",
    "    sample_list_2.append(x)\n",
    "    \n",
    "print(sample_list_2)\n",
    "    "
   ]
  },
  {
   "cell_type": "markdown",
   "metadata": {},
   "source": [
    "#### Convert `sample_list_2` to a set called `set2`. Print the length of the set. Is its length still 80?"
   ]
  },
  {
   "cell_type": "code",
   "execution_count": 44,
   "metadata": {},
   "outputs": [
    {
     "name": "stdout",
     "output_type": "stream",
     "text": [
      "{0, 1, 2, 5, 6, 12, 13, 16, 17, 19, 20, 21, 22, 23, 27, 28, 29, 31, 32, 38, 39, 40, 41, 42, 44, 47, 49, 50, 52, 54, 56, 58, 59, 61, 62, 64, 66, 70, 73, 76, 78, 79, 80, 81, 82, 84, 86, 87, 89, 91, 93, 94}\n",
      "<class 'set'> It's lenght is 52 . It has decreased because sets have only unique values.\n"
     ]
    }
   ],
   "source": [
    "\n",
    "set2 = set(sample_list_2)\n",
    "\n",
    "print(set2)\n",
    "print(type(set2), \"It's length is\", (len(set2)),\". It has decreased because sets have only unique values.\")\n"
   ]
  },
  {
   "cell_type": "markdown",
   "metadata": {},
   "source": [
    "#### Identify the elements present in `set1` but not in `set2`. Assign the elements to a new set named `set3`."
   ]
  },
  {
   "cell_type": "code",
   "execution_count": 46,
   "metadata": {},
   "outputs": [
    {
     "name": "stdout",
     "output_type": "stream",
     "text": [
      "{4, 7, 8, 10, 11, 14, 15, 18, 24, 25, 26, 30, 33, 34, 35, 36, 37, 45, 46, 48, 51, 53, 57, 60, 63, 67, 68, 71, 72, 74, 77, 83, 85, 90, 92, 95, 96, 97, 98, 99, 100}\n",
      "<class 'set'>\n"
     ]
    }
   ],
   "source": [
    "set3 = set1.difference(set2)\n",
    "\n",
    "print(set3)\n",
    "print(type(set3))\n",
    "\n",
    "\n",
    "\n"
   ]
  },
  {
   "cell_type": "markdown",
   "metadata": {},
   "source": [
    "#### Identify the elements present in `set2` but not in `set1`. Assign the elements to a new set named `set4`."
   ]
  },
  {
   "cell_type": "code",
   "execution_count": 47,
   "metadata": {},
   "outputs": [
    {
     "name": "stdout",
     "output_type": "stream",
     "text": [
      "{66, 6, 38, 41, 13, 16, 81, 20, 52, 22, 56, 58, 27}\n",
      "<class 'set'>\n"
     ]
    }
   ],
   "source": [
    "set4 = set2.difference(set1)\n",
    "\n",
    "print(set4)\n",
    "print(type(set4))\n"
   ]
  },
  {
   "cell_type": "markdown",
   "metadata": {},
   "source": [
    "#### Now Identify the elements shared between `set1` and `set2`. Assign the elements to a new set named `set5`."
   ]
  },
  {
   "cell_type": "code",
   "execution_count": 48,
   "metadata": {},
   "outputs": [
    {
     "name": "stdout",
     "output_type": "stream",
     "text": [
      "{0, 1, 2, 5, 12, 17, 19, 21, 23, 28, 29, 31, 32, 39, 40, 42, 44, 47, 49, 50, 54, 59, 61, 62, 64, 70, 73, 76, 78, 79, 80, 82, 84, 86, 87, 89, 91, 93, 94}\n",
      "<class 'set'>\n"
     ]
    }
   ],
   "source": [
    "set5 = set1.intersection(set2)\n",
    "\n",
    "print(set5)\n",
    "print(type(set5))\n"
   ]
  },
  {
   "cell_type": "markdown",
   "metadata": {},
   "source": [
    "#### What is the relationship among the following values:\n",
    "\n",
    "* len(set1)\n",
    "* len(set2)\n",
    "* len(set3)\n",
    "* len(set4)\n",
    "* len(set5)\n",
    "\n",
    "Think about the set operations that you used to create the sets and how the lengths of the sets are related to each other given those operations."
   ]
  },
  {
   "cell_type": "code",
   "execution_count": 54,
   "metadata": {},
   "outputs": [
    {
     "name": "stdout",
     "output_type": "stream",
     "text": [
      "80 unique values in set1\n",
      "52 unique values in set2\n",
      "41 values are in set1 but not set2\n",
      "13 values are in set2 but not set1\n",
      "39 values are in both set1 and set2\n"
     ]
    }
   ],
   "source": [
    "print(len(set1), 'unique values in set1')\n",
    "print(len(set2), 'unique values in set2')\n",
    "print(len(set3), 'values are in set1 but not set2')\n",
    "print(len(set4), 'values are in set2 but not set1')\n",
    "print(len(set5), 'values are in both set1 and set2') #set2 is set4 + set5 AND set1 is set3 + set5 SO set1 and 2 = set3 + set4 + set5\n"
   ]
  },
  {
   "cell_type": "markdown",
   "metadata": {},
   "source": [
    "#### Create an empty set called `set6`."
   ]
  },
  {
   "cell_type": "code",
   "execution_count": 77,
   "metadata": {},
   "outputs": [
    {
     "name": "stdout",
     "output_type": "stream",
     "text": [
      "<class 'set'>\n",
      "set()\n"
     ]
    }
   ],
   "source": [
    "set6 = set()\n",
    "print(type(set6))\n",
    "print(set6)\n"
   ]
  },
  {
   "cell_type": "markdown",
   "metadata": {},
   "source": [
    "#### Add `set3` and `set5` to `set6` using the Python Set `update` method."
   ]
  },
  {
   "cell_type": "code",
   "execution_count": 78,
   "metadata": {},
   "outputs": [
    {
     "name": "stdout",
     "output_type": "stream",
     "text": [
      "{0, 1, 2, 4, 5, 7, 8, 10, 11, 12, 14, 15, 17, 18, 19, 21, 23, 24, 25, 26, 28, 29, 30, 31, 32, 33, 34, 35, 36, 37, 39, 40, 42, 44, 45, 46, 47, 48, 49, 50, 51, 53, 54, 57, 59, 60, 61, 62, 63, 64, 67, 68, 70, 71, 72, 73, 74, 76, 77, 78, 79, 80, 82, 83, 84, 85, 86, 87, 89, 90, 91, 92, 93, 94, 95, 96, 97, 98, 99, 100}\n"
     ]
    }
   ],
   "source": [
    "\n",
    "set6.update(set3, set5)\n",
    "\n",
    "print(set6)\n"
   ]
  },
  {
   "cell_type": "markdown",
   "metadata": {},
   "source": [
    "#### Check if `set1` and `set6` are equal."
   ]
  },
  {
   "cell_type": "code",
   "execution_count": 80,
   "metadata": {},
   "outputs": [
    {
     "name": "stdout",
     "output_type": "stream",
     "text": [
      "They are equal.\n"
     ]
    }
   ],
   "source": [
    "if set1 is set6:\n",
    "    print('They are equal.')\n",
    "else:\n",
    "    print('Not equal.')\n"
   ]
  },
  {
   "cell_type": "markdown",
   "metadata": {},
   "source": [
    "#### Check if `set1` contains `set2` using the Python Set `issubset` method. Then check if `set1` contains `set3`."
   ]
  },
  {
   "cell_type": "code",
   "execution_count": 83,
   "metadata": {},
   "outputs": [
    {
     "name": "stdout",
     "output_type": "stream",
     "text": [
      "Set1 is not in set2\n",
      "Set1 is in set3\n"
     ]
    }
   ],
   "source": [
    "if set1.issubset(set2) is True:\n",
    "    print('Set1 is in set2')\n",
    "else:\n",
    "    print('Set1 is not in set2')\n",
    "    \n",
    "if set1.issubset(set3) is True:\n",
    "    print('Set1 is in set3')\n",
    "else:\n",
    "    print('Set1 is not in set3')\n"
   ]
  },
  {
   "cell_type": "markdown",
   "metadata": {},
   "source": [
    "### Using the Python Set `union` method, aggregate `set3`, `set4`, and `set5`. Then aggregate `set1` and `set2`. \n",
    "\n",
    "#### Check if the aggregated values are equal."
   ]
  },
  {
   "cell_type": "code",
   "execution_count": 85,
   "metadata": {},
   "outputs": [
    {
     "name": "stdout",
     "output_type": "stream",
     "text": [
      "Values are equal\n"
     ]
    }
   ],
   "source": [
    "if set3.union(set4, set5) == set1.union(set2):\n",
    "    print('Values are equal')\n",
    "else:\n",
    "    print('Values are not equal')\n"
   ]
  },
  {
   "cell_type": "markdown",
   "metadata": {},
   "source": [
    "#### Using the `pop` method, remove the first element from `set1`."
   ]
  },
  {
   "cell_type": "code",
   "execution_count": 87,
   "metadata": {},
   "outputs": [
    {
     "name": "stdout",
     "output_type": "stream",
     "text": [
      "{1, 2, 4, 5, 7, 8, 10, 11, 12, 14, 15, 17, 18, 19, 21, 23, 24, 25, 26, 28, 29, 30, 31, 32, 33, 34, 35, 36, 37, 39, 40, 42, 44, 45, 46, 47, 48, 49, 50, 51, 53, 54, 57, 59, 60, 61, 62, 63, 64, 67, 68, 70, 71, 72, 73, 74, 76, 77, 78, 79, 80, 82, 83, 84, 85, 86, 87, 89, 90, 91, 92, 93, 94, 95, 96, 97, 98, 99, 100}\n"
     ]
    }
   ],
   "source": [
    "set1.pop()\n",
    "print(set1)\n"
   ]
  },
  {
   "cell_type": "markdown",
   "metadata": {},
   "source": [
    "#### Remove every element in the following list from `set1` if they are present in the set. Print the remaining elements.\n",
    "\n",
    "```\n",
    "list_to_remove = [1, 9, 11, 19, 21, 29, 31, 39, 41, 49, 51, 59, 61, 69, 71, 79, 81, 89, 91, 99]\n",
    "```"
   ]
  },
  {
   "cell_type": "code",
   "execution_count": 102,
   "metadata": {},
   "outputs": [
    {
     "name": "stdout",
     "output_type": "stream",
     "text": [
      "{2, 4, 5, 7, 8, 10, 12, 14, 15, 17, 18, 23, 24, 25, 26, 28, 30, 32, 33, 34, 35, 36, 37, 40, 42, 44, 45, 46, 47, 48, 50, 53, 54, 57, 60, 62, 63, 64, 67, 68, 70, 72, 73, 74, 76, 77, 78, 80, 82, 83, 84, 85, 86, 87, 90, 92, 93, 94, 95, 96, 97, 98, 100}\n"
     ]
    }
   ],
   "source": [
    "list_to_remove = [1, 9, 11, 19, 21, 29, 31, 39, 41, 49, 51, 59, 61, 69, 71, 79, 81, 89, 91, 99]\n",
    "remove_set = set(list_to_remove)\n",
    "\n",
    "for i in remove_set:\n",
    "    set1.discard(i)\n",
    "print(set1)\n",
    "\n"
   ]
  },
  {
   "cell_type": "code",
   "execution_count": null,
   "metadata": {},
   "outputs": [],
   "source": []
  }
 ],
 "metadata": {
  "kernelspec": {
   "display_name": "Python 3",
   "language": "python",
   "name": "python3"
  },
  "language_info": {
   "codemirror_mode": {
    "name": "ipython",
    "version": 3
   },
   "file_extension": ".py",
   "mimetype": "text/x-python",
   "name": "python",
   "nbconvert_exporter": "python",
   "pygments_lexer": "ipython3",
   "version": "3.8.8"
  }
 },
 "nbformat": 4,
 "nbformat_minor": 2
}
